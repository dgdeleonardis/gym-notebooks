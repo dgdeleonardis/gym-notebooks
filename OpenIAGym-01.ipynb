{
 "cells": [
  {
   "cell_type": "markdown",
   "id": "1e074b51",
   "metadata": {},
   "source": [
    "## Introduzione\n",
    "\n",
    "Il codice all'interno di questo notebook è preso dal video tutorial: [**Getting Started With OpenAI**](https://www.youtube.com/watch?v=8MC3y7ASoPs&list=PLIfPjWrv526bMF8_vx9BqWjec-F-g-lQO) di TheComputerScientist.\n",
    "\n",
    "Documentazione a questo [link](https://www.gymlibrary.dev/environments/classic_control/cart_pole/?highlight=cartpole)\n",
    "\n",
    "***\n",
    "\n",
    "## Inizializzazione dell'ambiente\n",
    "Come primo passo si verifica se la libraria ***OpenIA Gym*** sia installata:"
   ]
  },
  {
   "cell_type": "code",
   "execution_count": 3,
   "id": "85727507-5f5b-4d19-91ea-84b99e25035f",
   "metadata": {
    "scrolled": true
   },
   "outputs": [
    {
     "name": "stdout",
     "output_type": "stream",
     "text": [
      "Requirement already satisfied: gym in ./lib/python3.8/site-packages (0.24.1)\n",
      "Requirement already satisfied: cloudpickle>=1.2.0 in ./lib/python3.8/site-packages (from gym) (2.1.0)\n",
      "Requirement already satisfied: gym-notices>=0.0.4 in ./lib/python3.8/site-packages (from gym) (0.0.7)\n",
      "Requirement already satisfied: numpy>=1.18.0 in ./lib/python3.8/site-packages (from gym) (1.22.4)\n",
      "Requirement already satisfied: importlib-metadata>=4.8.0 in ./lib/python3.8/site-packages (from gym) (4.11.4)\n",
      "Requirement already satisfied: zipp>=0.5 in ./lib/python3.8/site-packages (from importlib-metadata>=4.8.0->gym) (3.8.0)\n",
      "\n",
      "\u001b[1m[\u001b[0m\u001b[34;49mnotice\u001b[0m\u001b[1;39;49m]\u001b[0m\u001b[39;49m A new release of pip available: \u001b[0m\u001b[31;49m22.1.2\u001b[0m\u001b[39;49m -> \u001b[0m\u001b[32;49m22.2.2\u001b[0m\n",
      "\u001b[1m[\u001b[0m\u001b[34;49mnotice\u001b[0m\u001b[1;39;49m]\u001b[0m\u001b[39;49m To update, run: \u001b[0m\u001b[32;49mpip install --upgrade pip\u001b[0m\n",
      "Note: you may need to restart the kernel to use updated packages.\n"
     ]
    }
   ],
   "source": [
    "pip install gym"
   ]
  },
  {
   "cell_type": "markdown",
   "id": "02453f09",
   "metadata": {},
   "source": [
    "Dopodichè si importa la libreria:"
   ]
  },
  {
   "cell_type": "code",
   "execution_count": 5,
   "id": "de7fe9bd-f1cc-4b1c-98d7-c2f733d3c2bc",
   "metadata": {
    "tags": []
   },
   "outputs": [],
   "source": [
    "import gym"
   ]
  },
  {
   "cell_type": "markdown",
   "id": "677867ee",
   "metadata": {},
   "source": [
    "***\n",
    "## Creazione dell'environment CartPole"
   ]
  },
  {
   "cell_type": "markdown",
   "id": "67c4fa13",
   "metadata": {},
   "source": [
    "Si crea l'environment **CartPole** (v1)"
   ]
  },
  {
   "cell_type": "code",
   "execution_count": 6,
   "id": "bb2c0135-4205-4416-ac8b-9c5ebd5ae641",
   "metadata": {
    "scrolled": true
   },
   "outputs": [
    {
     "name": "stderr",
     "output_type": "stream",
     "text": [
      "/Users/diegodeleonardis/Documents/università/tirocinio/open_ia_gym_env/lib/python3.8/site-packages/gym/utils/passive_env_checker.py:97: UserWarning: \u001b[33mWARN: We recommend you to use a symmetric and normalized Box action space (range=[-1, 1]) https://stable-baselines3.readthedocs.io/en/master/guide/rl_tips.html\u001b[0m\n",
      "  logger.warn(\n"
     ]
    }
   ],
   "source": [
    "env_name = \"CartPole-v1\"\n",
    "env = gym.make(env_name)"
   ]
  },
  {
   "cell_type": "markdown",
   "id": "97016234",
   "metadata": {},
   "source": [
    "E si stampano l'**observation space** e l'**action space**"
   ]
  },
  {
   "cell_type": "code",
   "execution_count": 7,
   "id": "8c521893",
   "metadata": {},
   "outputs": [
    {
     "name": "stdout",
     "output_type": "stream",
     "text": [
      "Observation space: Box([-4.8000002e+00 -3.4028235e+38 -4.1887903e-01 -3.4028235e+38], [4.8000002e+00 3.4028235e+38 4.1887903e-01 3.4028235e+38], (4,), float32)\n",
      "Action space: Discrete(2)\n"
     ]
    }
   ],
   "source": [
    "print(\"Observation space:\", env.observation_space)\n",
    "print(\"Action space:\", env.action_space)"
   ]
  },
  {
   "cell_type": "markdown",
   "id": "ec441762",
   "metadata": {},
   "source": [
    "***\n",
    "## Creazione dell'agent e test dell'environment\n",
    "Si definisce la classe ```Agent``` la quale modella un agente studpido operante sull'environment. In questo caso l'azione scelta tra le due possibili:\n",
    "- **0**: spinta del carrello a sinistra;\n",
    "- **1**: spinta del carrello a destra;\n",
    "\n",
    "La scelta è determinata in funzione dell'angolo dell'asta (*pole*)."
   ]
  },
  {
   "cell_type": "code",
   "execution_count": 8,
   "id": "4836be0d-f410-4a79-be51-67e3edbb5416",
   "metadata": {},
   "outputs": [],
   "source": [
    "class Agent():\n",
    "    def __init__(self,env):\n",
    "        self.action_size = env.action_space.n\n",
    "        print(\"Action size:\", self.action_size)\n",
    "        \n",
    "    def get_action(self, state):\n",
    "        #action = random.choice(range(self.action_size))\n",
    "        pole_angle = state[2]\n",
    "        action = 0 if pole_angle < 0 else 1\n",
    "        return action"
   ]
  },
  {
   "cell_type": "markdown",
   "id": "9d9d289a",
   "metadata": {},
   "source": [
    "Si passa ora all'esecuzione di 200 **step** da parte dell'agente sull'environment creato precedentemente:"
   ]
  },
  {
   "cell_type": "code",
   "execution_count": 9,
   "id": "6f117ad7-02c3-42d8-abdd-64059a3123bf",
   "metadata": {},
   "outputs": [
    {
     "name": "stdout",
     "output_type": "stream",
     "text": [
      "Action size: 2\n"
     ]
    },
    {
     "name": "stderr",
     "output_type": "stream",
     "text": [
      "/Users/diegodeleonardis/Documents/università/tirocinio/open_ia_gym_env/lib/python3.8/site-packages/gym/envs/classic_control/cartpole.py:168: UserWarning: \u001b[33mWARN: You are calling 'step()' even though this environment has already returned done = True. You should always call 'reset()' once you receive 'done = True' -- any further steps are undefined behavior.\u001b[0m\n",
      "  logger.warn(\n"
     ]
    },
    {
     "data": {
      "text/plain": [
       "array([ 0.04120882, -0.03346575,  0.04740053, -0.04313226], dtype=float32)"
      ]
     },
     "execution_count": 9,
     "metadata": {},
     "output_type": "execute_result"
    }
   ],
   "source": [
    "agent = Agent(env)\n",
    "state = env.reset()\n",
    "\n",
    "for _ in range(200):\n",
    "#    action = env.action_space.sample()\n",
    "    action = agent.get_action(state)\n",
    "    state, reward, done, info = env.step(action)\n",
    "    env.render()\n",
    "env.close()\n",
    "\n",
    "env.reset()"
   ]
  },
  {
   "cell_type": "markdown",
   "id": "80d9e5b0",
   "metadata": {},
   "source": [
    "Come si può osservare l'agente creato non è in grado di stabilizzare l'asta posta sul carrello, data la politica di scelta dell'azione da eseguire."
   ]
  }
 ],
 "metadata": {
  "kernelspec": {
   "display_name": "Python 3 (ipykernel)",
   "language": "python",
   "name": "python3"
  },
  "language_info": {
   "codemirror_mode": {
    "name": "ipython",
    "version": 3
   },
   "file_extension": ".py",
   "mimetype": "text/x-python",
   "name": "python",
   "nbconvert_exporter": "python",
   "pygments_lexer": "ipython3",
   "version": "3.8.10"
  }
 },
 "nbformat": 4,
 "nbformat_minor": 5
}
