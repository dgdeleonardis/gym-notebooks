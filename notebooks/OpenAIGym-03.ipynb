{
 "cells": [
  {
   "cell_type": "markdown",
   "id": "131af59b",
   "metadata": {},
   "source": [
    "## Introduzione \n",
    "Il seguente notebook è frutto della visione del video [An Introduction to Q-Learning](https://youtu.be/wN3rxIKmMgE?list=PLIfPjWrv526bMF8_vx9BqWjec-F-g-lQO) di TheComputerScientist.\n",
    "\n",
    "Dopo aver introdotto l'algoritmo di [Q-Learning](https://en.wikipedia.org/wiki/Q-learning) si passa con l'instanziare e provare tale metodo nell'environment **FrozenLake-v1** nella sua versione **non slippery** (*per ora si evita di trattare il caso di un environment stocatisco):"
   ]
  },
  {
   "cell_type": "markdown",
   "id": "fee01de1",
   "metadata": {},
   "source": [
    "***\n",
    "\n",
    "## Import e setup dell'ambiente di lavoro"
   ]
  },
  {
   "cell_type": "code",
   "execution_count": 8,
   "id": "5a9805f9",
   "metadata": {},
   "outputs": [],
   "source": [
    "import gym\n",
    "import random\n",
    "import time\n",
    "import numpy as np\n",
    "from IPython.display import clear_output"
   ]
  },
  {
   "cell_type": "markdown",
   "id": "fe990b07",
   "metadata": {},
   "source": [
    "Di seguito si aggiunge all'insieme degli environment **FrozenLakeNoSlip-v1**:"
   ]
  },
  {
   "cell_type": "code",
   "execution_count": 9,
   "id": "1dd05604",
   "metadata": {},
   "outputs": [
    {
     "name": "stderr",
     "output_type": "stream",
     "text": [
      "/Users/diegodeleonardis/Documents/università/tirocinio/open_ia_gym_env/lib/python3.8/site-packages/gym/envs/registration.py:517: UserWarning: \u001b[33mWARN: Overriding environment FrozenLakeNoSlip-v1\u001b[0m\n",
      "  logger.warn(f\"Overriding environment {spec.id}\")\n"
     ]
    }
   ],
   "source": [
    "from gym.envs.registration import register\n",
    "\n",
    "try:\n",
    "    register(\n",
    "        id=\"FrozenLakeNoSlip-v1\",\n",
    "        entry_point=\"gym.envs.toy_text.frozen_lake:FrozenLakeEnv\",\n",
    "        kwargs={\"map_name\": \"4x4\", \"is_slippery\": False },\n",
    "        max_episode_steps=100,\n",
    "        reward_threshold=0.70,  # optimum = 0.74\n",
    "    )\n",
    "except:\n",
    "    pass"
   ]
  },
  {
   "cell_type": "markdown",
   "id": "6206257a",
   "metadata": {},
   "source": [
    "***\n",
    "\n",
    "## Creazione dell'environment  e di un agent stupido"
   ]
  },
  {
   "cell_type": "code",
   "execution_count": 10,
   "id": "cdb2124a",
   "metadata": {},
   "outputs": [],
   "source": [
    "env_name = \"FrozenLake-v1\"\n",
    "env = gym.make(env_name)"
   ]
  },
  {
   "cell_type": "code",
   "execution_count": 11,
   "id": "465b23fd",
   "metadata": {},
   "outputs": [
    {
     "name": "stdout",
     "output_type": "stream",
     "text": [
      "Observation space of FrozenLake-v1 environment\n",
      " Discrete(16)\n",
      "Action space of FrozenLake-v1 environment\n",
      " Discrete(4)\n"
     ]
    }
   ],
   "source": [
    "print(\"Observation space of\", env_name, \"environment\\n\", env.observation_space)\n",
    "print(\"Action space of\", env_name, \"environment\\n\", env.action_space)"
   ]
  },
  {
   "cell_type": "markdown",
   "id": "18e1b671",
   "metadata": {},
   "source": [
    "L'```Agent``` definito di seguito è la versione ottenuta nel notebook [OpenAIGym-02](https://github.com/dgdeleonardis/gym-notebooks/blob/main/notebooks/OpenAIGym-02.ipynb), creato per lavorare sia con ambienti discreti che continui: "
   ]
  },
  {
   "cell_type": "code",
   "execution_count": 12,
   "id": "efa2bddd",
   "metadata": {},
   "outputs": [],
   "source": [
    "class Agent:\n",
    "    def __init__(self, env):\n",
    "        self.is_discrete = type(env.action_space) == gym.spaces.discrete.Discrete\n",
    "        \n",
    "        if self.is_discrete:\n",
    "            self.action_size = env.action_space.n\n",
    "        else:\n",
    "            self.action_low = env.action_space.low\n",
    "            self.action_high = env.action_space.high\n",
    "            self.action_shape = env.action_space.shape\n",
    "        \n",
    "    def get_action(self, state):\n",
    "        if self.is_discrete:\n",
    "            action = random.choice(range(self.action_size))\n",
    "        else:\n",
    "            action = np.random.uniform(self.action_low,\n",
    "                                       self.action_high,\n",
    "                                      self.action_shape)\n",
    "        return action"
   ]
  },
  {
   "cell_type": "markdown",
   "id": "10eb76da",
   "metadata": {},
   "source": [
    "Successivamente viene effettuato un semplice test:"
   ]
  },
  {
   "cell_type": "code",
   "execution_count": 13,
   "id": "9e1bd3f2",
   "metadata": {},
   "outputs": [
    {
     "name": "stdout",
     "output_type": "stream",
     "text": [
      "state: 0 action: 3\n",
      "state: 1 action: 1\n",
      "state: 1 action: 0\n",
      "state: 5 action: 1\n"
     ]
    },
    {
     "data": {
      "text/plain": [
       "<bound method Wrapper.close of <TimeLimit<OrderEnforcing<PassiveEnvChecker<FrozenLakeEnv<FrozenLake-v1>>>>>>"
      ]
     },
     "execution_count": 13,
     "metadata": {},
     "output_type": "execute_result"
    }
   ],
   "source": [
    "agent = Agent(env)\n",
    "state = env.reset()\n",
    "\n",
    "done = False\n",
    "while not done:\n",
    "    action = agent.get_action(state)\n",
    "    state, reward, done, info = env.step(action)\n",
    "    print(\"state:\", state, \"action:\", action)\n",
    "    env.render()\n",
    "    time.sleep(0.5)\n",
    "        \n",
    "env.close"
   ]
  },
  {
   "cell_type": "markdown",
   "id": "fe9dbb69",
   "metadata": {},
   "source": [
    "In questo caso a differenza degli esempi visti in precedenza, non facciamo eseguire al nostro ```agent``` un numero di ```action``` prestabilito, ma fintantochè non ha raggiunto il suo goal.\n",
    "***\n",
    "\n",
    "## Implementazione di un agente Q-Learning\n",
    "\n",
    "Per implementare l'algoritmo di **Q-Learning** andiamo a creare un nuovo agente ```QAgent``` estendendo ```Agent```:"
   ]
  },
  {
   "cell_type": "code",
   "execution_count": 14,
   "id": "3edd8c84",
   "metadata": {},
   "outputs": [],
   "source": [
    "class QAgent(Agent):\n",
    "    def __init__(self, env, discount_rate=0.6, learning_rate=0.01):\n",
    "        super().__init__(env)\n",
    "        self.state_size = env.observation_space.n\n",
    "        print(\"State size:\", self.state_size)\n",
    "        \n",
    "        self.epsilon = 1.0\n",
    "        self.discount_rate = discount_rate\n",
    "        self.learning_rate = learning_rate\n",
    "        \n",
    "        self.build_model()\n",
    "        \n",
    "    def build_model(self):\n",
    "        self.q_table = 1e-5 * np.random.random([self.state_size, self.action_size])\n",
    "        print(self.q_table)\n",
    "    \n",
    "    # dato uno stato andiamo a prendere, nella colonna dello stato, l'action con il q_value maggiore\n",
    "    def get_action(self, state):\n",
    "        q_state = self.q_table[state]\n",
    "        action_greedy = np.argmax(q_state)\n",
    "        action_random = super().get_action(state)\n",
    "        return action_random if random.random() < self.epsilon else action_greedy\n",
    "    \n",
    "    def train(self, experience):\n",
    "        state, action, next_state, reward, done = experience\n",
    "        \n",
    "        q_next = self.q_table[next_state]\n",
    "        q_next = np.zeros([self.action_size]) if done else q_next\n",
    "        q_target = reward + self.discount_rate * np.max(q_next)\n",
    "        q_update = q_target - self.q_table[state, action]\n",
    "        self.q_table[state, action] += self.learning_rate * q_update\n",
    "        print(self.q_table)\n",
    "        if done:\n",
    "            self.epsilon *= 0.99\n",
    "        "
   ]
  },
  {
   "cell_type": "markdown",
   "id": "9f993321",
   "metadata": {},
   "source": [
    "Nel metodo ```train(...)``` è stata implementata tale formula: \n",
    "\n",
    "![q-learning formula](https://miro.medium.com/max/1400/1*EQ-tDj-iMdsHlGKUR81Xgw.png)"
   ]
  },
  {
   "cell_type": "markdown",
   "id": "d398cbb5",
   "metadata": {},
   "source": [
    "E ora si passa al test del nuovo agente:"
   ]
  },
  {
   "cell_type": "code",
   "execution_count": null,
   "id": "deaa8c0f",
   "metadata": {},
   "outputs": [
    {
     "name": "stdout",
     "output_type": "stream",
     "text": [
      "[[8.28379570e-06 4.50272582e-06 7.44787844e-06 6.82813507e-06]\n",
      " [2.17667919e-06 8.13121352e-06 2.09619310e-06 4.48213576e-06]\n",
      " [5.51084558e-06 9.19768562e-06 1.02553119e-06 3.04250602e-06]\n",
      " [8.03665189e-06 8.92141417e-07 1.07446302e-06 1.44028841e-06]\n",
      " [9.40677928e-06 4.67422556e-06 5.26118803e-06 5.88385723e-06]\n",
      " [7.77638916e-06 5.11463809e-06 6.45733761e-06 6.07331566e-07]\n",
      " [3.84390417e-06 7.16529172e-06 9.19509046e-06 1.35398728e-06]\n",
      " [3.87080046e-06 8.61109049e-06 1.36064747e-06 3.26437854e-06]\n",
      " [2.18511418e-06 1.87583577e-06 3.64380486e-06 5.83792384e-06]\n",
      " [6.30063357e-06 9.53502547e-06 9.07337616e-06 1.29948537e-06]\n",
      " [6.37606104e-06 6.52284540e-05 7.38389623e-06 4.72325143e-06]\n",
      " [2.32556098e-06 7.14568561e-06 2.57643767e-06 7.59460327e-07]\n",
      " [6.76533977e-06 6.26634667e-07 3.23307920e-06 3.54985409e-06]\n",
      " [6.30771098e-06 2.37262449e-06 3.14847624e-06 8.65089781e-06]\n",
      " [1.79473552e-06 9.37102920e-06 9.36764030e-06 1.00060167e-02]\n",
      " [3.25885762e-06 5.27699687e-06 5.00109509e-06 2.55272334e-06]]\n",
      "state: 8 action: 1\n",
      "Episode: 30, Total reward: 1.0, epsilon 0.7397003733882802\n"
     ]
    }
   ],
   "source": [
    "agent = QAgent(env)\n",
    "\n",
    "total_reward = 0\n",
    "for ep in range(1000):\n",
    "    state = env.reset()\n",
    "\n",
    "    done = False\n",
    "    while not done:\n",
    "        action = agent.get_action(state)\n",
    "        next_state, reward, done, info = env.step(action)\n",
    "        agent.train((state, action, next_state, reward, done))\n",
    "        state = next_state\n",
    "        total_reward += reward\n",
    "        print(\"state:\", state, \"action:\", action)\n",
    "        print(\"Episode: {}, Total reward: {}, epsilon {}\".format(ep, total_reward, agent.epsilon))\n",
    "        env.render()\n",
    "        #time.sleep(0.0001)\n",
    "        clear_output(wait = True)\n",
    "\n",
    "env.close"
   ]
  },
  {
   "cell_type": "code",
   "execution_count": null,
   "id": "97fcdb81",
   "metadata": {},
   "outputs": [],
   "source": []
  }
 ],
 "metadata": {
  "kernelspec": {
   "display_name": "Python 3 (ipykernel)",
   "language": "python",
   "name": "python3"
  },
  "language_info": {
   "codemirror_mode": {
    "name": "ipython",
    "version": 3
   },
   "file_extension": ".py",
   "mimetype": "text/x-python",
   "name": "python",
   "nbconvert_exporter": "python",
   "pygments_lexer": "ipython3",
   "version": "3.8.10"
  }
 },
 "nbformat": 4,
 "nbformat_minor": 5
}
